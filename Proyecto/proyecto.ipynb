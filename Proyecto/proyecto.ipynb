{
 "cells": [
  {
   "cell_type": "markdown",
   "metadata": {
    "collapsed": true
   },
   "source": []
  },
  {
   "cell_type": "markdown",
   "metadata": {},
   "source": [
    "<h1>Organizar la base de datos.</h1>"
   ]
  },
  {
   "cell_type": "code",
   "execution_count": 73,
   "metadata": {},
   "outputs": [
    {
     "name": "stdout",
     "output_type": "stream",
     "text": [
      "                                           Documentos  Clase\n",
      "0   Excelente. Recomendable. Habitaciones cómodas ...      1\n",
      "1   Las habitaciones muy amplias así como la cama....      1\n",
      "2   La piscina y el bungalow son muy espaciosos y ...      1\n",
      "3   El desayuno bufett bastante bueno, cuenta con ...      1\n",
      "4   La ubicación del hotel es perfecta para descan...      1\n",
      "5   Muy bien el transporte de y hacia el aeropuert...      1\n",
      "6   Las instalaciones en general estupendas, nuest...      1\n",
      "7   La piscina fantástica. Perfecto para un respir...      1\n",
      "8   La piscina principalmente. Tienes servicio de ...      1\n",
      "9   El sitio es excelente y la atencion un lujo.. ...      1\n",
      "10  La habitación era un maravilla, amplia y confo...      1\n",
      "11  Muy lindo, ubicado en zona residencial muy linda.      1\n",
      "12  La habitación muy limpia, excelente el conduct...      1\n",
      "13  Buen trato y la tranquilidad. A parte de estar...      1\n",
      "14  Todo el hotel está muy bueno  sin problemas es...      1\n",
      "15  Un hotel perfecto para esperar tu vuelo, pisci...      1\n",
      "16  El entorno super agradable y tranquilo, no par...      1\n",
      "17  El ambiente es maravillosamente tranquilo, la ...      1\n",
      "18  Todo, muy cómodo, tranquilo, limpio, buena com...      1\n",
      "19  EL hotel de lujo en general, el personal muy a...      1\n",
      "20  El servicio de transporte gratuito al aeropuer...      1\n",
      "21  La ubicación. El departamento amplio bien vent...      1\n",
      "22  Es muy cálido, muy buena atención, muy cómodo ...      1\n",
      "23  Excelente ubicación. Cercano al aeropuerto y s...      1\n",
      "24  Todo completo, nevera, baño con todos accesori...      1\n",
      "25  El hotel está perfectamente equipado, las habi...      1\n",
      "26  No desayuné, ni necesité el aire acondicionado...      1\n",
      "27  Muy buena atención y trato por parte del perso...      1\n",
      "28  Cama muy cómoda, piscina y distribución de las...      1\n",
      "29  El personal muy amable,cama amplia y todo muy ...      1\n",
      "..                                                ...    ...\n",
      "70  La moqueta estaba sucia y hundida, el ruido de...      0\n",
      "71  Falta de limpieza en las habitaciones (había h...      0\n",
      "72  estaba muy sucio y descuidado , pelos en el ba...      0\n",
      "73  la limpieza brillaba por su ausencia hotel car...      0\n",
      "74  Nada. Personal impresentable, mal educado.Desc...      0\n",
      "75  Las instalaciones del supuesto hotel 4 estrell...      0\n",
      "76  Instalaciones obsoletas, equipamiento obsoleto...      0\n",
      "77  La habitación estaba fatal,toalla manchada y s...      0\n",
      "78  Un hotel de 4 estrella no puede tener habitaci...      0\n",
      "79  Parking peligroso, incómodo, cutre Habitación ...      0\n",
      "80  El desayuno pobre y de mala calidad. El servic...      0\n",
      "81  Que las fotos son engañosas. Y una una vergüen...      0\n",
      "82  Es increible que un hotel como ese tenga 4 est...      0\n",
      "83  Ubicación muy mal , servicio mal, para subir a...      0\n",
      "84  Es un hotel de 4* y nos metieron en un bungalo...      0\n",
      "85            Todo en general bastante cutre y sucio.      0\n",
      "86  Las camas incomodas y rotas, los baños viejos,...      0\n",
      "87  La ventana de la habitacion estaba rota (no ce...      0\n",
      "88  Un hotel muy viejo falta de higiene precios de...      0\n",
      "89  Este hotel es fatal.  Me quedo esperando en el...      0\n",
      "90  Instalaciones obsoletas, equipamiento obsoleto...      0\n",
      "91  No, me gusto nada, la habitación era un bungal...      0\n",
      "92  El suelo de la habitación con moqueta muy suci...      0\n",
      "93  En las fotos parecía un magnífico hotel, con p...      0\n",
      "94  Parquing incómodo y caro, horario de la piscin...      0\n",
      "95  Las habitaciones están descuidadas, el persona...      0\n",
      "96  Servicio, los precios, la habitación no podía ...      0\n",
      "97  Es muy viejo, està un poco sucio. No hay posib...      0\n",
      "98  La habitación vieja, el aire acondicionado vie...      0\n",
      "99  Estaba muy sucio. Creo que debería recibir una...      0\n",
      "\n",
      "[100 rows x 2 columns]\n"
     ]
    }
   ],
   "source": [
    "import pandas as pd\n",
    "import numpy as np\n",
    "db = pd.read_csv(\"BD.txt\", delimiter=\"\\t\")\n",
    "print(db)\n",
    "y = np.zeros(100)\n",
    "#Archivo solo con los documentos\n",
    "f = open ('Docs.txt','w')\n",
    "for i in range(len(db)):\n",
    "    y[i] = db['Clase'][i]\n",
    "    f.write(db['Documentos'][i] + '\\n')\n",
    "f.close()"
   ]
  },
  {
   "cell_type": "code",
   "execution_count": 74,
   "metadata": {},
   "outputs": [
    {
     "name": "stdout",
     "output_type": "stream",
     "text": [
      "[1. 1. 1. 1. 1. 1. 1. 1. 1. 1. 1. 1. 1. 1. 1. 1. 1. 1. 1. 1. 1. 1. 1. 1.\n",
      " 1. 1. 1. 1. 1. 1. 1. 1. 1. 1. 1. 1. 1. 1. 1. 1. 1. 1. 1. 1. 1. 1. 1. 1.\n",
      " 1. 1. 0. 0. 0. 0. 0. 0. 0. 0. 0. 0. 0. 0. 0. 0. 0. 0. 0. 0. 0. 0. 0. 0.\n",
      " 0. 0. 0. 0. 0. 0. 0. 0. 0. 0. 0. 0. 0. 0. 0. 0. 0. 0. 0. 0. 0. 0. 0. 0.\n",
      " 0. 0. 0. 0.]\n"
     ]
    }
   ],
   "source": [
    "print(y)"
   ]
  },
  {
   "cell_type": "markdown",
   "metadata": {},
   "source": [
    "# Importar la base de datos de MLSenticon"
   ]
  },
  {
   "cell_type": "code",
   "execution_count": 75,
   "metadata": {},
   "outputs": [],
   "source": [
    "#-*- coding: utf-8 -*-\n",
    "import requests\n",
    "\n",
    "sentimientos = open('MLSenticon.txt', 'r')\n",
    "\n",
    "MLSenticonDic = { }\n",
    "for word in sentimientos:\n",
    "    palabra = word.split('\\t')[0]\n",
    "    valor = float(word.split('\\t')[1][:-1])\n",
    "    MLSenticonDic[palabra] = valor"
   ]
  },
  {
   "cell_type": "markdown",
   "metadata": {},
   "source": [
    "## Caracterización para Positivos"
   ]
  },
  {
   "cell_type": "code",
   "execution_count": 76,
   "metadata": {},
   "outputs": [],
   "source": [
    "def CalcularPolaridad(sentence):\n",
    "    for word in sentence:\n",
    "        palabra =  str(word['token'])\n",
    "        if palabra.lower() == 'no' or palabra.lower() == 'pero':\n",
    "            return -1 #Cambia la polaridad\n",
    "    return 1 #No cambia la polaridad"
   ]
  },
  {
   "cell_type": "code",
   "execution_count": 77,
   "metadata": {},
   "outputs": [
    {
     "name": "stdout",
     "output_type": "stream",
     "text": [
      "Excelente. Recomendable. Habitaciones cómodas y restaurante con buena comida. Cerca al aeropuerto.\n"
     ]
    },
    {
     "ename": "ConnectionError",
     "evalue": "HTTPConnectionPool(host='www.corpus.unam.mx', port=80): Max retries exceeded with url: /servicio-freeling/analyze.php?outf=tagged&format=json (Caused by NewConnectionError('<urllib3.connection.HTTPConnection object at 0x000001ED1A3B5F60>: Failed to establish a new connection: [Errno 11001] getaddrinfo failed',))",
     "output_type": "error",
     "traceback": [
      "\u001b[1;31m---------------------------------------------------------------------------\u001b[0m",
      "\u001b[1;31mgaierror\u001b[0m                                  Traceback (most recent call last)",
      "\u001b[1;32m~\\Anaconda3\\lib\\site-packages\\urllib3\\connection.py\u001b[0m in \u001b[0;36m_new_conn\u001b[1;34m(self)\u001b[0m\n\u001b[0;32m    140\u001b[0m             conn = connection.create_connection(\n\u001b[1;32m--> 141\u001b[1;33m                 (self.host, self.port), self.timeout, **extra_kw)\n\u001b[0m\u001b[0;32m    142\u001b[0m \u001b[1;33m\u001b[0m\u001b[0m\n",
      "\u001b[1;32m~\\Anaconda3\\lib\\site-packages\\urllib3\\util\\connection.py\u001b[0m in \u001b[0;36mcreate_connection\u001b[1;34m(address, timeout, source_address, socket_options)\u001b[0m\n\u001b[0;32m     59\u001b[0m \u001b[1;33m\u001b[0m\u001b[0m\n\u001b[1;32m---> 60\u001b[1;33m     \u001b[1;32mfor\u001b[0m \u001b[0mres\u001b[0m \u001b[1;32min\u001b[0m \u001b[0msocket\u001b[0m\u001b[1;33m.\u001b[0m\u001b[0mgetaddrinfo\u001b[0m\u001b[1;33m(\u001b[0m\u001b[0mhost\u001b[0m\u001b[1;33m,\u001b[0m \u001b[0mport\u001b[0m\u001b[1;33m,\u001b[0m \u001b[0mfamily\u001b[0m\u001b[1;33m,\u001b[0m \u001b[0msocket\u001b[0m\u001b[1;33m.\u001b[0m\u001b[0mSOCK_STREAM\u001b[0m\u001b[1;33m)\u001b[0m\u001b[1;33m:\u001b[0m\u001b[1;33m\u001b[0m\u001b[0m\n\u001b[0m\u001b[0;32m     61\u001b[0m         \u001b[0maf\u001b[0m\u001b[1;33m,\u001b[0m \u001b[0msocktype\u001b[0m\u001b[1;33m,\u001b[0m \u001b[0mproto\u001b[0m\u001b[1;33m,\u001b[0m \u001b[0mcanonname\u001b[0m\u001b[1;33m,\u001b[0m \u001b[0msa\u001b[0m \u001b[1;33m=\u001b[0m \u001b[0mres\u001b[0m\u001b[1;33m\u001b[0m\u001b[0m\n",
      "\u001b[1;32m~\\Anaconda3\\lib\\socket.py\u001b[0m in \u001b[0;36mgetaddrinfo\u001b[1;34m(host, port, family, type, proto, flags)\u001b[0m\n\u001b[0;32m    744\u001b[0m     \u001b[0maddrlist\u001b[0m \u001b[1;33m=\u001b[0m \u001b[1;33m[\u001b[0m\u001b[1;33m]\u001b[0m\u001b[1;33m\u001b[0m\u001b[0m\n\u001b[1;32m--> 745\u001b[1;33m     \u001b[1;32mfor\u001b[0m \u001b[0mres\u001b[0m \u001b[1;32min\u001b[0m \u001b[0m_socket\u001b[0m\u001b[1;33m.\u001b[0m\u001b[0mgetaddrinfo\u001b[0m\u001b[1;33m(\u001b[0m\u001b[0mhost\u001b[0m\u001b[1;33m,\u001b[0m \u001b[0mport\u001b[0m\u001b[1;33m,\u001b[0m \u001b[0mfamily\u001b[0m\u001b[1;33m,\u001b[0m \u001b[0mtype\u001b[0m\u001b[1;33m,\u001b[0m \u001b[0mproto\u001b[0m\u001b[1;33m,\u001b[0m \u001b[0mflags\u001b[0m\u001b[1;33m)\u001b[0m\u001b[1;33m:\u001b[0m\u001b[1;33m\u001b[0m\u001b[0m\n\u001b[0m\u001b[0;32m    746\u001b[0m         \u001b[0maf\u001b[0m\u001b[1;33m,\u001b[0m \u001b[0msocktype\u001b[0m\u001b[1;33m,\u001b[0m \u001b[0mproto\u001b[0m\u001b[1;33m,\u001b[0m \u001b[0mcanonname\u001b[0m\u001b[1;33m,\u001b[0m \u001b[0msa\u001b[0m \u001b[1;33m=\u001b[0m \u001b[0mres\u001b[0m\u001b[1;33m\u001b[0m\u001b[0m\n",
      "\u001b[1;31mgaierror\u001b[0m: [Errno 11001] getaddrinfo failed",
      "\nDuring handling of the above exception, another exception occurred:\n",
      "\u001b[1;31mNewConnectionError\u001b[0m                        Traceback (most recent call last)",
      "\u001b[1;32m~\\Anaconda3\\lib\\site-packages\\urllib3\\connectionpool.py\u001b[0m in \u001b[0;36murlopen\u001b[1;34m(self, method, url, body, headers, retries, redirect, assert_same_host, timeout, pool_timeout, release_conn, chunked, body_pos, **response_kw)\u001b[0m\n\u001b[0;32m    600\u001b[0m                                                   \u001b[0mbody\u001b[0m\u001b[1;33m=\u001b[0m\u001b[0mbody\u001b[0m\u001b[1;33m,\u001b[0m \u001b[0mheaders\u001b[0m\u001b[1;33m=\u001b[0m\u001b[0mheaders\u001b[0m\u001b[1;33m,\u001b[0m\u001b[1;33m\u001b[0m\u001b[0m\n\u001b[1;32m--> 601\u001b[1;33m                                                   chunked=chunked)\n\u001b[0m\u001b[0;32m    602\u001b[0m \u001b[1;33m\u001b[0m\u001b[0m\n",
      "\u001b[1;32m~\\Anaconda3\\lib\\site-packages\\urllib3\\connectionpool.py\u001b[0m in \u001b[0;36m_make_request\u001b[1;34m(self, conn, method, url, timeout, chunked, **httplib_request_kw)\u001b[0m\n\u001b[0;32m    356\u001b[0m         \u001b[1;32melse\u001b[0m\u001b[1;33m:\u001b[0m\u001b[1;33m\u001b[0m\u001b[0m\n\u001b[1;32m--> 357\u001b[1;33m             \u001b[0mconn\u001b[0m\u001b[1;33m.\u001b[0m\u001b[0mrequest\u001b[0m\u001b[1;33m(\u001b[0m\u001b[0mmethod\u001b[0m\u001b[1;33m,\u001b[0m \u001b[0murl\u001b[0m\u001b[1;33m,\u001b[0m \u001b[1;33m**\u001b[0m\u001b[0mhttplib_request_kw\u001b[0m\u001b[1;33m)\u001b[0m\u001b[1;33m\u001b[0m\u001b[0m\n\u001b[0m\u001b[0;32m    358\u001b[0m \u001b[1;33m\u001b[0m\u001b[0m\n",
      "\u001b[1;32m~\\Anaconda3\\lib\\http\\client.py\u001b[0m in \u001b[0;36mrequest\u001b[1;34m(self, method, url, body, headers, encode_chunked)\u001b[0m\n\u001b[0;32m   1238\u001b[0m         \u001b[1;34m\"\"\"Send a complete request to the server.\"\"\"\u001b[0m\u001b[1;33m\u001b[0m\u001b[0m\n\u001b[1;32m-> 1239\u001b[1;33m         \u001b[0mself\u001b[0m\u001b[1;33m.\u001b[0m\u001b[0m_send_request\u001b[0m\u001b[1;33m(\u001b[0m\u001b[0mmethod\u001b[0m\u001b[1;33m,\u001b[0m \u001b[0murl\u001b[0m\u001b[1;33m,\u001b[0m \u001b[0mbody\u001b[0m\u001b[1;33m,\u001b[0m \u001b[0mheaders\u001b[0m\u001b[1;33m,\u001b[0m \u001b[0mencode_chunked\u001b[0m\u001b[1;33m)\u001b[0m\u001b[1;33m\u001b[0m\u001b[0m\n\u001b[0m\u001b[0;32m   1240\u001b[0m \u001b[1;33m\u001b[0m\u001b[0m\n",
      "\u001b[1;32m~\\Anaconda3\\lib\\http\\client.py\u001b[0m in \u001b[0;36m_send_request\u001b[1;34m(self, method, url, body, headers, encode_chunked)\u001b[0m\n\u001b[0;32m   1284\u001b[0m             \u001b[0mbody\u001b[0m \u001b[1;33m=\u001b[0m \u001b[0m_encode\u001b[0m\u001b[1;33m(\u001b[0m\u001b[0mbody\u001b[0m\u001b[1;33m,\u001b[0m \u001b[1;34m'body'\u001b[0m\u001b[1;33m)\u001b[0m\u001b[1;33m\u001b[0m\u001b[0m\n\u001b[1;32m-> 1285\u001b[1;33m         \u001b[0mself\u001b[0m\u001b[1;33m.\u001b[0m\u001b[0mendheaders\u001b[0m\u001b[1;33m(\u001b[0m\u001b[0mbody\u001b[0m\u001b[1;33m,\u001b[0m \u001b[0mencode_chunked\u001b[0m\u001b[1;33m=\u001b[0m\u001b[0mencode_chunked\u001b[0m\u001b[1;33m)\u001b[0m\u001b[1;33m\u001b[0m\u001b[0m\n\u001b[0m\u001b[0;32m   1286\u001b[0m \u001b[1;33m\u001b[0m\u001b[0m\n",
      "\u001b[1;32m~\\Anaconda3\\lib\\http\\client.py\u001b[0m in \u001b[0;36mendheaders\u001b[1;34m(self, message_body, encode_chunked)\u001b[0m\n\u001b[0;32m   1233\u001b[0m             \u001b[1;32mraise\u001b[0m \u001b[0mCannotSendHeader\u001b[0m\u001b[1;33m(\u001b[0m\u001b[1;33m)\u001b[0m\u001b[1;33m\u001b[0m\u001b[0m\n\u001b[1;32m-> 1234\u001b[1;33m         \u001b[0mself\u001b[0m\u001b[1;33m.\u001b[0m\u001b[0m_send_output\u001b[0m\u001b[1;33m(\u001b[0m\u001b[0mmessage_body\u001b[0m\u001b[1;33m,\u001b[0m \u001b[0mencode_chunked\u001b[0m\u001b[1;33m=\u001b[0m\u001b[0mencode_chunked\u001b[0m\u001b[1;33m)\u001b[0m\u001b[1;33m\u001b[0m\u001b[0m\n\u001b[0m\u001b[0;32m   1235\u001b[0m \u001b[1;33m\u001b[0m\u001b[0m\n",
      "\u001b[1;32m~\\Anaconda3\\lib\\http\\client.py\u001b[0m in \u001b[0;36m_send_output\u001b[1;34m(self, message_body, encode_chunked)\u001b[0m\n\u001b[0;32m   1025\u001b[0m         \u001b[1;32mdel\u001b[0m \u001b[0mself\u001b[0m\u001b[1;33m.\u001b[0m\u001b[0m_buffer\u001b[0m\u001b[1;33m[\u001b[0m\u001b[1;33m:\u001b[0m\u001b[1;33m]\u001b[0m\u001b[1;33m\u001b[0m\u001b[0m\n\u001b[1;32m-> 1026\u001b[1;33m         \u001b[0mself\u001b[0m\u001b[1;33m.\u001b[0m\u001b[0msend\u001b[0m\u001b[1;33m(\u001b[0m\u001b[0mmsg\u001b[0m\u001b[1;33m)\u001b[0m\u001b[1;33m\u001b[0m\u001b[0m\n\u001b[0m\u001b[0;32m   1027\u001b[0m \u001b[1;33m\u001b[0m\u001b[0m\n",
      "\u001b[1;32m~\\Anaconda3\\lib\\http\\client.py\u001b[0m in \u001b[0;36msend\u001b[1;34m(self, data)\u001b[0m\n\u001b[0;32m    963\u001b[0m             \u001b[1;32mif\u001b[0m \u001b[0mself\u001b[0m\u001b[1;33m.\u001b[0m\u001b[0mauto_open\u001b[0m\u001b[1;33m:\u001b[0m\u001b[1;33m\u001b[0m\u001b[0m\n\u001b[1;32m--> 964\u001b[1;33m                 \u001b[0mself\u001b[0m\u001b[1;33m.\u001b[0m\u001b[0mconnect\u001b[0m\u001b[1;33m(\u001b[0m\u001b[1;33m)\u001b[0m\u001b[1;33m\u001b[0m\u001b[0m\n\u001b[0m\u001b[0;32m    965\u001b[0m             \u001b[1;32melse\u001b[0m\u001b[1;33m:\u001b[0m\u001b[1;33m\u001b[0m\u001b[0m\n",
      "\u001b[1;32m~\\Anaconda3\\lib\\site-packages\\urllib3\\connection.py\u001b[0m in \u001b[0;36mconnect\u001b[1;34m(self)\u001b[0m\n\u001b[0;32m    165\u001b[0m     \u001b[1;32mdef\u001b[0m \u001b[0mconnect\u001b[0m\u001b[1;33m(\u001b[0m\u001b[0mself\u001b[0m\u001b[1;33m)\u001b[0m\u001b[1;33m:\u001b[0m\u001b[1;33m\u001b[0m\u001b[0m\n\u001b[1;32m--> 166\u001b[1;33m         \u001b[0mconn\u001b[0m \u001b[1;33m=\u001b[0m \u001b[0mself\u001b[0m\u001b[1;33m.\u001b[0m\u001b[0m_new_conn\u001b[0m\u001b[1;33m(\u001b[0m\u001b[1;33m)\u001b[0m\u001b[1;33m\u001b[0m\u001b[0m\n\u001b[0m\u001b[0;32m    167\u001b[0m         \u001b[0mself\u001b[0m\u001b[1;33m.\u001b[0m\u001b[0m_prepare_conn\u001b[0m\u001b[1;33m(\u001b[0m\u001b[0mconn\u001b[0m\u001b[1;33m)\u001b[0m\u001b[1;33m\u001b[0m\u001b[0m\n",
      "\u001b[1;32m~\\Anaconda3\\lib\\site-packages\\urllib3\\connection.py\u001b[0m in \u001b[0;36m_new_conn\u001b[1;34m(self)\u001b[0m\n\u001b[0;32m    149\u001b[0m             raise NewConnectionError(\n\u001b[1;32m--> 150\u001b[1;33m                 self, \"Failed to establish a new connection: %s\" % e)\n\u001b[0m\u001b[0;32m    151\u001b[0m \u001b[1;33m\u001b[0m\u001b[0m\n",
      "\u001b[1;31mNewConnectionError\u001b[0m: <urllib3.connection.HTTPConnection object at 0x000001ED1A3B5F60>: Failed to establish a new connection: [Errno 11001] getaddrinfo failed",
      "\nDuring handling of the above exception, another exception occurred:\n",
      "\u001b[1;31mMaxRetryError\u001b[0m                             Traceback (most recent call last)",
      "\u001b[1;32m~\\Anaconda3\\lib\\site-packages\\requests\\adapters.py\u001b[0m in \u001b[0;36msend\u001b[1;34m(self, request, stream, timeout, verify, cert, proxies)\u001b[0m\n\u001b[0;32m    439\u001b[0m                     \u001b[0mretries\u001b[0m\u001b[1;33m=\u001b[0m\u001b[0mself\u001b[0m\u001b[1;33m.\u001b[0m\u001b[0mmax_retries\u001b[0m\u001b[1;33m,\u001b[0m\u001b[1;33m\u001b[0m\u001b[0m\n\u001b[1;32m--> 440\u001b[1;33m                     \u001b[0mtimeout\u001b[0m\u001b[1;33m=\u001b[0m\u001b[0mtimeout\u001b[0m\u001b[1;33m\u001b[0m\u001b[0m\n\u001b[0m\u001b[0;32m    441\u001b[0m                 )\n",
      "\u001b[1;32m~\\Anaconda3\\lib\\site-packages\\urllib3\\connectionpool.py\u001b[0m in \u001b[0;36murlopen\u001b[1;34m(self, method, url, body, headers, retries, redirect, assert_same_host, timeout, pool_timeout, release_conn, chunked, body_pos, **response_kw)\u001b[0m\n\u001b[0;32m    638\u001b[0m             retries = retries.increment(method, url, error=e, _pool=self,\n\u001b[1;32m--> 639\u001b[1;33m                                         _stacktrace=sys.exc_info()[2])\n\u001b[0m\u001b[0;32m    640\u001b[0m             \u001b[0mretries\u001b[0m\u001b[1;33m.\u001b[0m\u001b[0msleep\u001b[0m\u001b[1;33m(\u001b[0m\u001b[1;33m)\u001b[0m\u001b[1;33m\u001b[0m\u001b[0m\n",
      "\u001b[1;32m~\\Anaconda3\\lib\\site-packages\\urllib3\\util\\retry.py\u001b[0m in \u001b[0;36mincrement\u001b[1;34m(self, method, url, response, error, _pool, _stacktrace)\u001b[0m\n\u001b[0;32m    387\u001b[0m         \u001b[1;32mif\u001b[0m \u001b[0mnew_retry\u001b[0m\u001b[1;33m.\u001b[0m\u001b[0mis_exhausted\u001b[0m\u001b[1;33m(\u001b[0m\u001b[1;33m)\u001b[0m\u001b[1;33m:\u001b[0m\u001b[1;33m\u001b[0m\u001b[0m\n\u001b[1;32m--> 388\u001b[1;33m             \u001b[1;32mraise\u001b[0m \u001b[0mMaxRetryError\u001b[0m\u001b[1;33m(\u001b[0m\u001b[0m_pool\u001b[0m\u001b[1;33m,\u001b[0m \u001b[0murl\u001b[0m\u001b[1;33m,\u001b[0m \u001b[0merror\u001b[0m \u001b[1;32mor\u001b[0m \u001b[0mResponseError\u001b[0m\u001b[1;33m(\u001b[0m\u001b[0mcause\u001b[0m\u001b[1;33m)\u001b[0m\u001b[1;33m)\u001b[0m\u001b[1;33m\u001b[0m\u001b[0m\n\u001b[0m\u001b[0;32m    389\u001b[0m \u001b[1;33m\u001b[0m\u001b[0m\n",
      "\u001b[1;31mMaxRetryError\u001b[0m: HTTPConnectionPool(host='www.corpus.unam.mx', port=80): Max retries exceeded with url: /servicio-freeling/analyze.php?outf=tagged&format=json (Caused by NewConnectionError('<urllib3.connection.HTTPConnection object at 0x000001ED1A3B5F60>: Failed to establish a new connection: [Errno 11001] getaddrinfo failed',))",
      "\nDuring handling of the above exception, another exception occurred:\n",
      "\u001b[1;31mConnectionError\u001b[0m                           Traceback (most recent call last)",
      "\u001b[1;32m<ipython-input-77-7d240169723d>\u001b[0m in \u001b[0;36m<module>\u001b[1;34m()\u001b[0m\n\u001b[0;32m     16\u001b[0m     \u001b[1;31m#Enviar petición\u001b[0m\u001b[1;33m\u001b[0m\u001b[1;33m\u001b[0m\u001b[0m\n\u001b[0;32m     17\u001b[0m     \u001b[0murl\u001b[0m \u001b[1;33m=\u001b[0m \u001b[1;34m\"http://www.corpus.unam.mx/servicio-freeling/analyze.php\"\u001b[0m\u001b[1;33m\u001b[0m\u001b[0m\n\u001b[1;32m---> 18\u001b[1;33m     \u001b[0mr\u001b[0m \u001b[1;33m=\u001b[0m \u001b[0mrequests\u001b[0m\u001b[1;33m.\u001b[0m\u001b[0mpost\u001b[0m\u001b[1;33m(\u001b[0m\u001b[0murl\u001b[0m\u001b[1;33m,\u001b[0m \u001b[0mfiles\u001b[0m\u001b[1;33m=\u001b[0m\u001b[0mfiles\u001b[0m\u001b[1;33m,\u001b[0m \u001b[0mparams\u001b[0m\u001b[1;33m=\u001b[0m\u001b[0mparams\u001b[0m\u001b[1;33m)\u001b[0m\u001b[1;33m\u001b[0m\u001b[0m\n\u001b[0m\u001b[0;32m     19\u001b[0m     \u001b[1;31m#print (r)\u001b[0m\u001b[1;33m\u001b[0m\u001b[1;33m\u001b[0m\u001b[0m\n\u001b[0;32m     20\u001b[0m \u001b[1;33m\u001b[0m\u001b[0m\n",
      "\u001b[1;32m~\\Anaconda3\\lib\\site-packages\\requests\\api.py\u001b[0m in \u001b[0;36mpost\u001b[1;34m(url, data, json, **kwargs)\u001b[0m\n\u001b[0;32m    110\u001b[0m     \"\"\"\n\u001b[0;32m    111\u001b[0m \u001b[1;33m\u001b[0m\u001b[0m\n\u001b[1;32m--> 112\u001b[1;33m     \u001b[1;32mreturn\u001b[0m \u001b[0mrequest\u001b[0m\u001b[1;33m(\u001b[0m\u001b[1;34m'post'\u001b[0m\u001b[1;33m,\u001b[0m \u001b[0murl\u001b[0m\u001b[1;33m,\u001b[0m \u001b[0mdata\u001b[0m\u001b[1;33m=\u001b[0m\u001b[0mdata\u001b[0m\u001b[1;33m,\u001b[0m \u001b[0mjson\u001b[0m\u001b[1;33m=\u001b[0m\u001b[0mjson\u001b[0m\u001b[1;33m,\u001b[0m \u001b[1;33m**\u001b[0m\u001b[0mkwargs\u001b[0m\u001b[1;33m)\u001b[0m\u001b[1;33m\u001b[0m\u001b[0m\n\u001b[0m\u001b[0;32m    113\u001b[0m \u001b[1;33m\u001b[0m\u001b[0m\n\u001b[0;32m    114\u001b[0m \u001b[1;33m\u001b[0m\u001b[0m\n",
      "\u001b[1;32m~\\Anaconda3\\lib\\site-packages\\requests\\api.py\u001b[0m in \u001b[0;36mrequest\u001b[1;34m(method, url, **kwargs)\u001b[0m\n\u001b[0;32m     56\u001b[0m     \u001b[1;31m# cases, and look like a memory leak in others.\u001b[0m\u001b[1;33m\u001b[0m\u001b[1;33m\u001b[0m\u001b[0m\n\u001b[0;32m     57\u001b[0m     \u001b[1;32mwith\u001b[0m \u001b[0msessions\u001b[0m\u001b[1;33m.\u001b[0m\u001b[0mSession\u001b[0m\u001b[1;33m(\u001b[0m\u001b[1;33m)\u001b[0m \u001b[1;32mas\u001b[0m \u001b[0msession\u001b[0m\u001b[1;33m:\u001b[0m\u001b[1;33m\u001b[0m\u001b[0m\n\u001b[1;32m---> 58\u001b[1;33m         \u001b[1;32mreturn\u001b[0m \u001b[0msession\u001b[0m\u001b[1;33m.\u001b[0m\u001b[0mrequest\u001b[0m\u001b[1;33m(\u001b[0m\u001b[0mmethod\u001b[0m\u001b[1;33m=\u001b[0m\u001b[0mmethod\u001b[0m\u001b[1;33m,\u001b[0m \u001b[0murl\u001b[0m\u001b[1;33m=\u001b[0m\u001b[0murl\u001b[0m\u001b[1;33m,\u001b[0m \u001b[1;33m**\u001b[0m\u001b[0mkwargs\u001b[0m\u001b[1;33m)\u001b[0m\u001b[1;33m\u001b[0m\u001b[0m\n\u001b[0m\u001b[0;32m     59\u001b[0m \u001b[1;33m\u001b[0m\u001b[0m\n\u001b[0;32m     60\u001b[0m \u001b[1;33m\u001b[0m\u001b[0m\n",
      "\u001b[1;32m~\\Anaconda3\\lib\\site-packages\\requests\\sessions.py\u001b[0m in \u001b[0;36mrequest\u001b[1;34m(self, method, url, params, data, headers, cookies, files, auth, timeout, allow_redirects, proxies, hooks, stream, verify, cert, json)\u001b[0m\n\u001b[0;32m    506\u001b[0m         }\n\u001b[0;32m    507\u001b[0m         \u001b[0msend_kwargs\u001b[0m\u001b[1;33m.\u001b[0m\u001b[0mupdate\u001b[0m\u001b[1;33m(\u001b[0m\u001b[0msettings\u001b[0m\u001b[1;33m)\u001b[0m\u001b[1;33m\u001b[0m\u001b[0m\n\u001b[1;32m--> 508\u001b[1;33m         \u001b[0mresp\u001b[0m \u001b[1;33m=\u001b[0m \u001b[0mself\u001b[0m\u001b[1;33m.\u001b[0m\u001b[0msend\u001b[0m\u001b[1;33m(\u001b[0m\u001b[0mprep\u001b[0m\u001b[1;33m,\u001b[0m \u001b[1;33m**\u001b[0m\u001b[0msend_kwargs\u001b[0m\u001b[1;33m)\u001b[0m\u001b[1;33m\u001b[0m\u001b[0m\n\u001b[0m\u001b[0;32m    509\u001b[0m \u001b[1;33m\u001b[0m\u001b[0m\n\u001b[0;32m    510\u001b[0m         \u001b[1;32mreturn\u001b[0m \u001b[0mresp\u001b[0m\u001b[1;33m\u001b[0m\u001b[0m\n",
      "\u001b[1;32m~\\Anaconda3\\lib\\site-packages\\requests\\sessions.py\u001b[0m in \u001b[0;36msend\u001b[1;34m(self, request, **kwargs)\u001b[0m\n\u001b[0;32m    616\u001b[0m \u001b[1;33m\u001b[0m\u001b[0m\n\u001b[0;32m    617\u001b[0m         \u001b[1;31m# Send the request\u001b[0m\u001b[1;33m\u001b[0m\u001b[1;33m\u001b[0m\u001b[0m\n\u001b[1;32m--> 618\u001b[1;33m         \u001b[0mr\u001b[0m \u001b[1;33m=\u001b[0m \u001b[0madapter\u001b[0m\u001b[1;33m.\u001b[0m\u001b[0msend\u001b[0m\u001b[1;33m(\u001b[0m\u001b[0mrequest\u001b[0m\u001b[1;33m,\u001b[0m \u001b[1;33m**\u001b[0m\u001b[0mkwargs\u001b[0m\u001b[1;33m)\u001b[0m\u001b[1;33m\u001b[0m\u001b[0m\n\u001b[0m\u001b[0;32m    619\u001b[0m \u001b[1;33m\u001b[0m\u001b[0m\n\u001b[0;32m    620\u001b[0m         \u001b[1;31m# Total elapsed time of the request (approximately)\u001b[0m\u001b[1;33m\u001b[0m\u001b[1;33m\u001b[0m\u001b[0m\n",
      "\u001b[1;32m~\\Anaconda3\\lib\\site-packages\\requests\\adapters.py\u001b[0m in \u001b[0;36msend\u001b[1;34m(self, request, stream, timeout, verify, cert, proxies)\u001b[0m\n\u001b[0;32m    506\u001b[0m                 \u001b[1;32mraise\u001b[0m \u001b[0mSSLError\u001b[0m\u001b[1;33m(\u001b[0m\u001b[0me\u001b[0m\u001b[1;33m,\u001b[0m \u001b[0mrequest\u001b[0m\u001b[1;33m=\u001b[0m\u001b[0mrequest\u001b[0m\u001b[1;33m)\u001b[0m\u001b[1;33m\u001b[0m\u001b[0m\n\u001b[0;32m    507\u001b[0m \u001b[1;33m\u001b[0m\u001b[0m\n\u001b[1;32m--> 508\u001b[1;33m             \u001b[1;32mraise\u001b[0m \u001b[0mConnectionError\u001b[0m\u001b[1;33m(\u001b[0m\u001b[0me\u001b[0m\u001b[1;33m,\u001b[0m \u001b[0mrequest\u001b[0m\u001b[1;33m=\u001b[0m\u001b[0mrequest\u001b[0m\u001b[1;33m)\u001b[0m\u001b[1;33m\u001b[0m\u001b[0m\n\u001b[0m\u001b[0;32m    509\u001b[0m \u001b[1;33m\u001b[0m\u001b[0m\n\u001b[0;32m    510\u001b[0m         \u001b[1;32mexcept\u001b[0m \u001b[0mClosedPoolError\u001b[0m \u001b[1;32mas\u001b[0m \u001b[0me\u001b[0m\u001b[1;33m:\u001b[0m\u001b[1;33m\u001b[0m\u001b[0m\n",
      "\u001b[1;31mConnectionError\u001b[0m: HTTPConnectionPool(host='www.corpus.unam.mx', port=80): Max retries exceeded with url: /servicio-freeling/analyze.php?outf=tagged&format=json (Caused by NewConnectionError('<urllib3.connection.HTTPConnection object at 0x000001ED1A3B5F60>: Failed to establish a new connection: [Errno 11001] getaddrinfo failed',))"
     ]
    }
   ],
   "source": [
    "Caracteristicas = []\n",
    "for i in range(50):\n",
    "    vectorCaracteristicasPos = [0,0]\n",
    "    \n",
    "    f = open ('Coment.txt','w')\n",
    "    f.write(db['Documentos'][i] + '\\n')\n",
    "    f.close()\n",
    "    print(db['Documentos'][i])\n",
    "    \n",
    "    #Archivo a ser enviado\n",
    "    files = {'file': open('Coment.txt', 'r')}\n",
    "    \n",
    "    #Parámetros\n",
    "    params = {'outf': 'tagged', 'format': 'json'}\n",
    "\n",
    "    #Enviar petición\n",
    "    url = \"http://www.corpus.unam.mx/servicio-freeling/analyze.php\"\n",
    "    r = requests.post(url, files=files, params=params)\n",
    "    #print (r)\n",
    "\n",
    "    #Convertir de formato json\n",
    "    obj = r.json()\n",
    "\n",
    "    #pint(len(obj))    #obj es una lista de listas. Tiene tantos elementos (listas) como frases tenga el file\n",
    "    \n",
    "    #Ejemplo, obtener todos los lemas\n",
    "    for sentence in obj:\n",
    "        #print (sentence)    #sentence es una lista de diccionarios. Tiente tantos elementos (diccionarios)\n",
    "                             #como palabras tiene la frase\n",
    "        polaridad = CalcularPolaridad(sentence)\n",
    "        for word in sentence:\n",
    "            #word es un diccionario con 4 claves: token, lemma, tag y prob(probabilidad de que el tag haya sido bien asignado)\n",
    "            #A través de esas cuatro claves se podrá acceder a la información que requerimos para\n",
    "            #Comenzar a construir el vector de características de un texto\n",
    "            print(word)\n",
    "            if (word['tag'][0] == 'A'):\n",
    "                    lema = word['lemma']\n",
    "                    print(lema)\n",
    "                    \n",
    "                    try: \n",
    "                        valor = MLSenticonDic[lema]\n",
    "                    except:\n",
    "                        valor = 0\n",
    "\n",
    "                    if polaridad == 1:\n",
    "                        if (valor > 0):\n",
    "                            vectorCaracteristicasPos[0] += valor\n",
    "                        else:\n",
    "                            vectorCaracteristicasPos[1] += valor\n",
    "                    else:\n",
    "                        if (valor > 0):\n",
    "                            vectorCaracteristicasPos[1] += (valor * polaridad)\n",
    "                        else:\n",
    "                            vectorCaracteristicasPos[0] += (valor * polaridad)\n",
    "\n",
    "        #print(vectorCaracteristicasPos)\n",
    "    Caracteristicas.append(vectorCaracteristicasPos)\n",
    "#print(Caracteristicas)"
   ]
  },
  {
   "cell_type": "code",
   "execution_count": null,
   "metadata": {},
   "outputs": [],
   "source": []
  },
  {
   "cell_type": "markdown",
   "metadata": {},
   "source": [
    "## Caracterización para negativos"
   ]
  },
  {
   "cell_type": "code",
   "execution_count": 72,
   "metadata": {},
   "outputs": [
    {
     "ename": "TypeError",
     "evalue": "'_io.TextIOWrapper' object is not subscriptable",
     "output_type": "error",
     "traceback": [
      "\u001b[1;31m---------------------------------------------------------------------------\u001b[0m",
      "\u001b[1;31mTypeError\u001b[0m                                 Traceback (most recent call last)",
      "\u001b[1;32m<ipython-input-72-27a06f96b180>\u001b[0m in \u001b[0;36m<module>\u001b[1;34m()\u001b[0m\n\u001b[0;32m      3\u001b[0m \u001b[1;33m\u001b[0m\u001b[0m\n\u001b[0;32m      4\u001b[0m     \u001b[0mf\u001b[0m \u001b[1;33m=\u001b[0m \u001b[0mopen\u001b[0m \u001b[1;33m(\u001b[0m\u001b[1;34m'Coment.txt'\u001b[0m\u001b[1;33m,\u001b[0m\u001b[1;34m'w'\u001b[0m\u001b[1;33m)\u001b[0m\u001b[1;33m\u001b[0m\u001b[0m\n\u001b[1;32m----> 5\u001b[1;33m     \u001b[0mf\u001b[0m\u001b[1;33m.\u001b[0m\u001b[0mwrite\u001b[0m\u001b[1;33m(\u001b[0m\u001b[0mdb\u001b[0m\u001b[1;33m[\u001b[0m\u001b[1;34m'Documentos'\u001b[0m\u001b[1;33m]\u001b[0m\u001b[1;33m[\u001b[0m\u001b[0mi\u001b[0m\u001b[1;33m]\u001b[0m \u001b[1;33m+\u001b[0m \u001b[1;34m'\\n'\u001b[0m\u001b[1;33m)\u001b[0m\u001b[1;33m\u001b[0m\u001b[0m\n\u001b[0m\u001b[0;32m      6\u001b[0m     \u001b[0mf\u001b[0m\u001b[1;33m.\u001b[0m\u001b[0mclose\u001b[0m\u001b[1;33m(\u001b[0m\u001b[1;33m)\u001b[0m\u001b[1;33m\u001b[0m\u001b[0m\n\u001b[0;32m      7\u001b[0m     \u001b[1;31m#print(db['Documentos'][i])\u001b[0m\u001b[1;33m\u001b[0m\u001b[1;33m\u001b[0m\u001b[0m\n",
      "\u001b[1;31mTypeError\u001b[0m: '_io.TextIOWrapper' object is not subscriptable"
     ]
    }
   ],
   "source": [
    "for i in range(50,100):\n",
    "    vectorCaracteristicasNeg = [0,0]\n",
    "    \n",
    "    f = open ('Coment.txt','w')\n",
    "    f.write(db['Documentos'][i] + '\\n')\n",
    "    f.close()\n",
    "    #print(db['Documentos'][i])\n",
    "    \n",
    "    #Archivo a ser enviado\n",
    "    files = {'file': open('Coment.txt', 'r')}\n",
    "    \n",
    "    #Parámetros\n",
    "    params = {'outf': 'tagged', 'format': 'json'}\n",
    "\n",
    "    #Enviar petición\n",
    "    url = \"http://www.corpus.unam.mx/servicio-freeling/analyze.php\"\n",
    "    r = requests.post(url, files=files, params=params)\n",
    "    #print (r)\n",
    "\n",
    "    #Convertir de formato json\n",
    "    obj = r.json()\n",
    "\n",
    "    #pint(len(obj))    #obj es una lista de listas. Tiene tantos elementos (listas) como frases tenga el file\n",
    "    \n",
    "    #Ejemplo, obtener todos los lemas\n",
    "    for sentence in obj:\n",
    "        #print (sentence)    #sentence es una lista de diccionarios. Tiente tantos elementos (diccionarios)\n",
    "                             #como palabras tiene la frase\n",
    "        polaridad = CalcularPolaridad(sentence)\n",
    "        for word in sentence:\n",
    "            #word es un diccionario con 4 claves: token, lemma, tag y prob(probabilidad de que el tag haya sido bien asignado)\n",
    "            #A través de esas cuatro claves se podrá acceder a la información que requerimos para\n",
    "            #Comenzar a construir el vector de características de un texto\n",
    "            #print(word)\n",
    "            if (word['tag'][0] == 'A'):\n",
    "                    lema = word['lemma']\n",
    "                    #print(lema)\n",
    "\n",
    "                    try: \n",
    "                        valor = MLSenticonDic[lema]\n",
    "                    except:\n",
    "                        valor = 0\n",
    "                        \n",
    "                    if polaridad == 1:\n",
    "                        if (valor > 0):\n",
    "                            vectorCaracteristicasNeg[0] += valor\n",
    "                        else:\n",
    "                            vectorCaracteristicasNeg[1] += valor\n",
    "                    else:\n",
    "                        if (valor > 0):\n",
    "                            vectorCaracteristicasNeg[1] += (valor * polaridad)\n",
    "                        else:\n",
    "                            vectorCaracteristicasNeg[0] += (valor * polaridad)\n",
    "                    \n",
    "\n",
    "        #print(vectorCaracteristicasNeg)\n",
    "    Caracteristicas.append(vectorCaracteristicasNeg)\n",
    "#print(Caracteristicas)"
   ]
  },
  {
   "cell_type": "markdown",
   "metadata": {},
   "source": [
    "<h1>Regresión Logistica</h1>"
   ]
  },
  {
   "cell_type": "code",
   "execution_count": 45,
   "metadata": {},
   "outputs": [
    {
     "name": "stdout",
     "output_type": "stream",
     "text": [
      "Muestras training:  70 %\n",
      "Muestras testing:  30 %\n",
      "\n",
      "Resultados con Regresión logística (Lineal)\n",
      "\n",
      "Accuracy:  0.8643333333333335 +/- 0.05275835900067821\n",
      "Sensitivity:  0.8611223116408876 +/- 0.08124416280084633\n",
      "Especificity:  0.8685351238458823 +/- 0.08231733204795762\n"
     ]
    }
   ],
   "source": [
    "import numpy as np\n",
    "from sklearn.model_selection import train_test_split\n",
    "from sklearn.metrics import confusion_matrix\n",
    "from sklearn.linear_model import LogisticRegression\n",
    "\n",
    "from sklearn.model_selection import train_test_split\n",
    "from sklearn.metrics import confusion_matrix\n",
    "from sklearn.neighbors import KNeighborsClassifier as KNN\n",
    "\n",
    "import numpy as np\n",
    "from sklearn.metrics import confusion_matrix\n",
    "from sklearn.ensemble import RandomForestClassifier as RF\n",
    "\n",
    "def error_measures(Yestimado, Yteorico):\n",
    "    \n",
    "    CM = confusion_matrix(Yteorico, Yestimado)\n",
    "\n",
    "    TN = CM[0][0]\n",
    "    FN = CM[1][0]\n",
    "    TP = CM[1][1]\n",
    "    FP = CM[0][1]\n",
    "    \n",
    "    sens = TP/(TP+FN)\n",
    "    esp = TN/(TN+FP)\n",
    "    \n",
    "    return sens, esp\n",
    "\n"
   ]
  },
  {
   "cell_type": "code",
   "execution_count": 51,
   "metadata": {},
   "outputs": [
    {
     "name": "stdout",
     "output_type": "stream",
     "text": [
      "Muestras training:  70 %\n",
      "Muestras testing:  30 %\n",
      "\n",
      "Resultados con Regresión logística (Lineal)\n",
      "\n",
      "Accuracy:  0.8656666666666668 +/- 0.05526803375872489\n",
      "Sensitivity:  0.8681680518483923 +/- 0.08644053034092267\n",
      "Especificity:  0.8680835774562554 +/- 0.0785921866641888\n"
     ]
    }
   ],
   "source": [
    "def RegresionLogistica(db):\n",
    "    lr=LogisticRegression()\n",
    "    acc = []\n",
    "    sens = []\n",
    "    esp = []\n",
    "\n",
    "    for i in range(100):\n",
    "\n",
    "        Xtrain,Xtest,Ytrain,Ytest = train_test_split(db,y,test_size=0.3)   #Preguntar bootstraping\n",
    "\n",
    "\n",
    "        lr.fit(Xtrain,Ytrain)\n",
    "        Yest = lr.predict(Xtest)\n",
    "        s, e = error_measures(Yest,Ytest)\n",
    "        sens.append(s); esp.append(e)\n",
    "        acc.append(lr.score(Xtest,Ytest))\n",
    "\n",
    "    print(\"Muestras training: \", round((np.size(Xtrain,0)*100)/100), \"%\")\n",
    "    print(\"Muestras testing: \", round((np.size(Xtest,0)*100)/100), \"%\")\n",
    "\n",
    "    print(\"\\nResultados con Regresión logística (Lineal)\\n\")\n",
    "    print(\"Accuracy: \", np.mean(acc), \"+/-\", np.std(acc))\n",
    "    print(\"Sensitivity: \", np.mean(sens), \"+/-\", np.std(sens))\n",
    "    print(\"Especificity: \", np.mean(esp), \"+/-\", np.std(esp))\n",
    "    \n",
    "RegresionLogistica(Caracteristicas)"
   ]
  },
  {
   "cell_type": "markdown",
   "metadata": {},
   "source": [
    "## K-nearest neighbors"
   ]
  },
  {
   "cell_type": "code",
   "execution_count": 52,
   "metadata": {},
   "outputs": [
    {
     "name": "stdout",
     "output_type": "stream",
     "text": [
      "\n",
      "Resultados con K vecinos más cercanos\n",
      "\n",
      "Accuracy:  0.813 +/- 0.06581033353509161\n",
      "Sensitivity:  0.7840013414518059 +/- 0.10863710637777702\n",
      "Especificity:  0.8541898397010627 +/- 0.09250932409638464\n"
     ]
    }
   ],
   "source": [
    "def KNearestNeighbors(bd):\n",
    "    acc = []\n",
    "    sens = []\n",
    "    esp = []\n",
    "\n",
    "    #Complete el código para KNN\n",
    "    neigh = KNN(n_neighbors=40)\n",
    "\n",
    "    for i in range(100):\n",
    "\n",
    "        Xtrain,Xtest,Ytrain,Ytest = train_test_split(bd,y,test_size=0.3)   \n",
    "\n",
    "        neigh.fit(Xtrain,Ytrain)\n",
    "        Yest = neigh.predict(Xtest)\n",
    "        s, e = error_measures(Yest,Ytest)\n",
    "        sens.append(s); esp.append(e)\n",
    "        acc.append(neigh.score(Xtest,Ytest))\n",
    "\n",
    "\n",
    "    print(\"\\nResultados con K vecinos más cercanos\\n\")\n",
    "    print(\"Accuracy: \", np.mean(acc), \"+/-\", np.std(acc))\n",
    "    print(\"Sensitivity: \", np.mean(sens), \"+/-\", np.std(sens))\n",
    "    print(\"Especificity: \", np.mean(esp), \"+/-\", np.std(esp))\n",
    "    \n",
    "KNearestNeighbors(Caracteristicas)"
   ]
  },
  {
   "cell_type": "markdown",
   "metadata": {},
   "source": [
    "## Random Forest"
   ]
  },
  {
   "cell_type": "code",
   "execution_count": 53,
   "metadata": {},
   "outputs": [
    {
     "name": "stdout",
     "output_type": "stream",
     "text": [
      "Resultados con Random Forest\n",
      "\n",
      "Accuracy:  0.8646666666666667 +/- 0.05329582014046172\n",
      "Sensitivity:  0.8228421946990058 +/- 0.09490833880144853\n",
      "Especificity:  0.907980195374091 +/- 0.078953943744423\n"
     ]
    }
   ],
   "source": [
    "def RandomForest(bd):\n",
    "    acc = []\n",
    "    sens = []\n",
    "    esp = []\n",
    "    clf = RF(n_estimators=400)\n",
    "\n",
    "    #Complete el código para Árboles de decisión\n",
    "    for i in range(100):\n",
    "\n",
    "        Xtrain,Xtest,Ytrain,Ytest = train_test_split(bd,y,test_size=0.3)  \n",
    "\n",
    "        clf.fit(Xtrain,Ytrain)\n",
    "        Yest = clf.predict(Xtest)\n",
    "        s, e = error_measures(Yest,Ytest)\n",
    "        sens.append(s); esp.append(e)\n",
    "        acc.append(clf.score(Xtest,Ytest))\n",
    "\n",
    "\n",
    "    print(\"Resultados con Random Forest\\n\")\n",
    "    print(\"Accuracy: \", np.mean(acc), \"+/-\", np.std(acc))\n",
    "    print(\"Sensitivity: \", np.mean(sens), \"+/-\", np.std(sens))\n",
    "    print(\"Especificity: \", np.mean(esp), \"+/-\", np.std(esp))\n",
    "\n",
    "RandomForest(Caracteristicas)"
   ]
  },
  {
   "cell_type": "markdown",
   "metadata": {},
   "source": [
    "## Vectorización "
   ]
  },
  {
   "cell_type": "code",
   "execution_count": 63,
   "metadata": {},
   "outputs": [
    {
     "name": "stdout",
     "output_type": "stream",
     "text": [
      "Estaba muy sucio. Creo que debería recibir una inspección de sanidad. No es conveniente pisar descalzo en la habitación, la moqueta está asquerosa. La entrada a recepción estaba sucia y el suelo pegajoso. Por otra parte llegamos cerca de las 12 de la noche y había muchos huéspedes extranjeros que no paraban de dar voces.\n",
      "\n"
     ]
    }
   ],
   "source": [
    "from sklearn.feature_extraction.text import CountVectorizer, TfidfVectorizer\n",
    "\n",
    "# Cargando los datos desde el archivo DB.txt (Noticias de periódico)\n",
    "db = open('Docs.txt', 'r')\n",
    "db_data = []\n",
    "for i in db:\n",
    "    db_data.append(i)\n",
    "db.close()\n",
    "\n",
    "#print(db_target)  #Las clases son 1->textos positivos; 0->tetos negativos\n"
   ]
  },
  {
   "cell_type": "code",
   "execution_count": 69,
   "metadata": {},
   "outputs": [
    {
     "name": "stdout",
     "output_type": "stream",
     "text": [
      "Muestras training:  70 %\n",
      "Muestras testing:  30 %\n",
      "\n",
      "Resultados con Regresión logística (Lineal)\n",
      "\n",
      "Accuracy:  0.7369999999999999 +/- 0.08177136146326267\n",
      "Sensitivity:  0.9145263623545358 +/- 0.07640277432365478\n",
      "Especificity:  0.5755475179705057 +/- 0.15507702957336375\n",
      "\n",
      "Resultados con K vecinos más cercanos\n",
      "\n",
      "Accuracy:  0.49566666666666664 +/- 0.06890492644861387\n",
      "Sensitivity:  1.0 +/- 0.0\n",
      "Especificity:  0.0 +/- 0.0\n",
      "Resultados con Random Forest\n",
      "\n",
      "Accuracy:  0.612 +/- 0.1113073822050152\n",
      "Sensitivity:  0.8925737874097007 +/- 0.21337200270576043\n",
      "Especificity:  0.3977519072344925 +/- 0.2756208306166685\n"
     ]
    }
   ],
   "source": [
    "vector = CountVectorizer(ngram_range=(2,2))    #Matriz de términos en documentos\n",
    "\n",
    "vector.fit(db_data)\n",
    "\n",
    "bow = vector.transform(db_data)\n",
    "\n",
    "RegresionLogistica(bow)\n",
    "KNearestNeighbors(bow)\n",
    "RandomForest(bow)"
   ]
  },
  {
   "cell_type": "code",
   "execution_count": 68,
   "metadata": {},
   "outputs": [
    {
     "name": "stdout",
     "output_type": "stream",
     "text": [
      "Muestras training:  70 %\n",
      "Muestras testing:  30 %\n",
      "\n",
      "Resultados con Regresión logística (Lineal)\n",
      "\n",
      "Accuracy:  0.8913333333333334 +/- 0.07536872325072545\n",
      "Sensitivity:  0.8841014451664606 +/- 0.12324883747451106\n",
      "Especificity:  0.9216038476001794 +/- 0.09445383219748275\n",
      "\n",
      "Resultados con K vecinos más cercanos\n",
      "\n",
      "Accuracy:  0.7556666666666666 +/- 0.08832452786300206\n",
      "Sensitivity:  0.5810402467759278 +/- 0.15535875614401923\n",
      "Especificity:  0.9539374104567603 +/- 0.05654930881667824\n",
      "Resultados con Random Forest\n",
      "\n",
      "Accuracy:  0.8486666666666665 +/- 0.0772326931350247\n",
      "Sensitivity:  0.9565039838472501 +/- 0.05258003831807601\n",
      "Especificity:  0.7624861066436143 +/- 0.14041336496483248\n"
     ]
    }
   ],
   "source": [
    "vector = TfidfVectorizer()   #Esquema TF-IDF\n",
    "\n",
    "vector.fit(db_data)\n",
    "\n",
    "bow = vector.transform(db_data)\n",
    "\n",
    "RegresionLogistica(bow)\n",
    "KNearestNeighbors(bow)\n",
    "RandomForest(bow)"
   ]
  },
  {
   "cell_type": "code",
   "execution_count": null,
   "metadata": {},
   "outputs": [],
   "source": []
  }
 ],
 "metadata": {
  "kernelspec": {
   "display_name": "Python 3",
   "language": "python",
   "name": "python3"
  },
  "language_info": {
   "codemirror_mode": {
    "name": "ipython",
    "version": 3
   },
   "file_extension": ".py",
   "mimetype": "text/x-python",
   "name": "python",
   "nbconvert_exporter": "python",
   "pygments_lexer": "ipython3",
   "version": "3.6.5"
  }
 },
 "nbformat": 4,
 "nbformat_minor": 2
}
